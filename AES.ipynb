{
 "cells": [
  {
   "cell_type": "code",
   "execution_count": 1,
   "metadata": {
    "colab": {},
    "colab_type": "code",
    "id": "rOmb_bR7Z1qc"
   },
   "outputs": [],
   "source": [
    "import sys\n",
    "# S-Box\n",
    "sBox  = [0x9, 0x4, 0xa, 0xb, 0xd, 0x1, 0x8, 0x5, 0x6, 0x2, 0x0, 0x3, 0xc, 0xe, 0xf, 0x7] \n",
    "# Inverse S-Box\n",
    "sBoxI = [0xa, 0x5, 0x9, 0xb, 0x1, 0x7, 0x8, 0xf, 0x6, 0x0, 0x2, 0x3, 0xc, 0x4, 0xd, 0xe]\n",
    "w = [None] * 6"
   ]
  },
  {
   "cell_type": "code",
   "execution_count": 2,
   "metadata": {
    "colab": {},
    "colab_type": "code",
    "id": "gFsyNgRHZ1ql"
   },
   "outputs": [],
   "source": [
    "def mult(p1, p2):\n",
    "    \"\"\"Multiply two polynomials in GF(2^4)/x^4 + x + 1\"\"\"\n",
    "    p = 0\n",
    "    while p2:\n",
    "        if p2 & 0b1:\n",
    "            p ^= p1\n",
    "        p1 <<= 1\n",
    "        if p1 & 0b10000:\n",
    "            p1 ^= 0b11\n",
    "        p2 >>= 1\n",
    "    return p & 0b1111\n",
    " \n",
    "def intToVec(n):\n",
    "    return [n >> 12, (n >> 4) & 0xf, (n >> 8) & 0xf,  n & 0xf]            \n",
    " \n",
    "def vecToInt(m):\n",
    "    return (m[0] << 12) + (m[2] << 8) + (m[1] << 4) + m[3]\n",
    " \n",
    "def addKey(s1, s2):\n",
    "    \"\"\"Add two keys in GF(2^4)\"\"\"  \n",
    "    return [i ^ j for i, j in zip(s1, s2)]\n",
    "          \n",
    "def shiftRow(s):\n",
    "    \"\"\"ShiftRow function\"\"\"\n",
    "    return [s[0], s[1], s[3], s[2]]\n",
    "\n",
    "def sub4NibList(sbox, s):\n",
    "    \"\"\"Nibble substitution function\"\"\"\n",
    "    return [sbox[e] for e in s]\n",
    " "
   ]
  },
  {
   "cell_type": "code",
   "execution_count": 3,
   "metadata": {
    "colab": {},
    "colab_type": "code",
    "id": "bdSBAqExZ1qs"
   },
   "outputs": [],
   "source": [
    "def sub2Nib(b):\n",
    "        \"\"\"Swap each nibble and substitute it using sBox\"\"\"\n",
    "        return sBox[b >> 4] + (sBox[b & 0x0f] << 4)"
   ]
  },
  {
   "cell_type": "code",
   "execution_count": 4,
   "metadata": {
    "colab": {},
    "colab_type": "code",
    "id": "WmOkUluaZ1qx"
   },
   "outputs": [],
   "source": [
    "get_bin = lambda x: format(x, 'b')"
   ]
  },
  {
   "cell_type": "code",
   "execution_count": 5,
   "metadata": {
    "colab": {},
    "colab_type": "code",
    "id": "7dL8kOy_Z1q2"
   },
   "outputs": [],
   "source": [
    "def keyExp(key):\n",
    "    Rcon1, Rcon2 = 0b10000000,0b00110000\n",
    "    w[0] = (key & 0xff00) >> 8\n",
    "    w[1] = key & 0x00ff\n",
    "    w[2] = w[0] ^ Rcon1 ^ sub2Nib(w[1])\n",
    "    w[3] = w[2] ^ w[1]\n",
    "    w[4] = w[2] ^ Rcon2 ^ sub2Nib(w[3])\n",
    "    w[5] = w[4] ^ w[3]"
   ]
  },
  {
   "cell_type": "code",
   "execution_count": 6,
   "metadata": {
    "colab": {
     "base_uri": "https://localhost:8080/",
     "height": 34
    },
    "colab_type": "code",
    "id": "S1P93RqPZ1q7",
    "outputId": "b2eff135-041c-4ca9-c031-9ddb807554a7"
   },
   "outputs": [
    {
     "name": "stdout",
     "output_type": "stream",
     "text": [
      "55080\n"
     ]
    }
   ],
   "source": [
    "plain_text = 0b1101011100101000\n",
    "print(plain_text)\n",
    "key = 0b0100101011110101\n",
    "keyExp(key)"
   ]
  },
  {
   "cell_type": "code",
   "execution_count": 7,
   "metadata": {
    "colab": {
     "base_uri": "https://localhost:8080/",
     "height": 225
    },
    "colab_type": "code",
    "id": "x57WYQ24Z1rA",
    "outputId": "c7871c74-44d3-49e1-8810-a4f495689084"
   },
   "outputs": [
    {
     "name": "stdout",
     "output_type": "stream",
     "text": [
      "value of w[0]\n",
      "01001010\n",
      "value of w[1]\n",
      "11110101\n",
      "value of w[2]\n",
      "11011101\n",
      "value of w[3]\n",
      "00101000\n",
      "value of w[4]\n",
      "10000111\n",
      "value of w[5]\n",
      "10101111\n"
     ]
    }
   ],
   "source": [
    "print('value of w[0]')\n",
    "print(get_bin(w[0]).zfill(8))\n",
    "print('value of w[1]')\n",
    "print(get_bin(w[1]).zfill(8))\n",
    "print('value of w[2]')\n",
    "print(get_bin(w[2]).zfill(8))\n",
    "print('value of w[3]')\n",
    "print(get_bin(w[3]).zfill(8))\n",
    "print('value of w[4]')\n",
    "print(get_bin(w[4]).zfill(8))\n",
    "print('value of w[5]')\n",
    "print(get_bin(w[5]).zfill(8))"
   ]
  },
  {
   "cell_type": "code",
   "execution_count": 8,
   "metadata": {
    "colab": {},
    "colab_type": "code",
    "id": "pL5Y_lURZ1rE"
   },
   "outputs": [],
   "source": [
    "def mixCol(s):\n",
    "        return [s[0] ^ mult(4, s[2]), s[1] ^ mult(4, s[3]),\n",
    "                s[2] ^ mult(4, s[0]), s[3] ^ mult(4, s[1])]    "
   ]
  },
  {
   "cell_type": "code",
   "execution_count": 9,
   "metadata": {
    "colab": {
     "base_uri": "https://localhost:8080/",
     "height": 34
    },
    "colab_type": "code",
    "id": "Rnmcfh8fZ1rJ",
    "outputId": "3cf1b16a-f6f6-45f6-be6f-dd622549e2a2"
   },
   "outputs": [
    {
     "name": "stdout",
     "output_type": "stream",
     "text": [
      "100101000000000\n"
     ]
    }
   ],
   "source": [
    "print(get_bin(w[0]<<8))"
   ]
  },
  {
   "cell_type": "code",
   "execution_count": 10,
   "metadata": {
    "colab": {
     "base_uri": "https://localhost:8080/",
     "height": 52
    },
    "colab_type": "code",
    "id": "1OiyPyxPZ1rO",
    "outputId": "0cb88f6f-82a2-47ca-e6f3-b7e902e61dc7"
   },
   "outputs": [
    {
     "name": "stdout",
     "output_type": "stream",
     "text": [
      "After Round 1:-\n",
      "1001 1101 1101 1101\n"
     ]
    }
   ],
   "source": [
    "#After Round 0\n",
    "state = intToVec(((w[0] << 8) + w[1]) ^ plain_text)\n",
    "print('After Round 1:-')\n",
    "print(str(get_bin(state[0]).zfill(4)) + \" \" + str(get_bin(state[2]).zfill(4)) +\" \"+ str(get_bin(state[1]).zfill(4)) +\" \"+ str(get_bin(state[3]).zfill(4)))"
   ]
  },
  {
   "cell_type": "code",
   "execution_count": 11,
   "metadata": {
    "colab": {
     "base_uri": "https://localhost:8080/",
     "height": 156
    },
    "colab_type": "code",
    "id": "bQZNeqziZ1rS",
    "outputId": "fee7ba8a-ff56-4548-ba79-182fed3b6057"
   },
   "outputs": [
    {
     "name": "stdout",
     "output_type": "stream",
     "text": [
      "Performing the subnibble operations:-\n",
      "0010 1110 1110 1110\n",
      "Perfroming the state Row shift operations:-\n",
      "0010 1110 1110 1110\n",
      "Result afte mix row operation:-\n",
      "1111 0110 0011 0011\n",
      "After round key 1 xor\n",
      "0010 1011 0001 1011\n"
     ]
    }
   ],
   "source": [
    "#Round 1\n",
    "#SubNibble operation\n",
    "print('Performing the subnibble operations:-')\n",
    "state = sub4NibList(sBox, state)\n",
    "print(str(get_bin(state[0]).zfill(4)) + \" \" + str(get_bin(state[2]).zfill(4)) +\" \"+ str(get_bin(state[1]).zfill(4)) +\" \"+ str(get_bin(state[3]).zfill(4)))\n",
    "#Shift Row operation\n",
    "print('Perfroming the state Row shift operations:-')\n",
    "state = shiftRow(state)\n",
    "print(str(get_bin(state[0]).zfill(4)) + \" \" + str(get_bin(state[2]).zfill(4)) +\" \"+ str(get_bin(state[1]).zfill(4)) +\" \"+ str(get_bin(state[3]).zfill(4)))\n",
    "#Mix column operation\n",
    "print('Result afte mix row operation:-')\n",
    "state = mixCol(state)\n",
    "print(str(get_bin(state[0]).zfill(4)) + \" \" + str(get_bin(state[2]).zfill(4)) +\" \"+ str(get_bin(state[1]).zfill(4)) +\" \"+ str(get_bin(state[3]).zfill(4)))\n",
    "# XOR with Round 1 key\n",
    "print('After round key 1 xor')    \n",
    "state = addKey(intToVec((w[2] << 8) + w[3]), state)\n",
    "print(str(get_bin(state[0]).zfill(4)) + \" \" + str(get_bin(state[2]).zfill(4)) +\" \"+ str(get_bin(state[1]).zfill(4)) +\" \"+ str(get_bin(state[3]).zfill(4)))"
   ]
  },
  {
   "cell_type": "code",
   "execution_count": 12,
   "metadata": {
    "colab": {
     "base_uri": "https://localhost:8080/",
     "height": 139
    },
    "colab_type": "code",
    "id": "ObwhZO0YZ1rX",
    "outputId": "9d855921-6bbc-4d40-c8ba-22f4b8207fd4"
   },
   "outputs": [
    {
     "name": "stdout",
     "output_type": "stream",
     "text": [
      "Performing the subnibble operations:-\n",
      "1010 0011 0100 0011\n",
      "Perfroming the state Row shift operations:-\n",
      "1010 0011 0100 0011\n",
      "After round key 2 xor\n",
      "Cipher Text is:-\n",
      "0010 0100 1110 1100\n"
     ]
    }
   ],
   "source": [
    "#Round 2\n",
    "#SubNibble operation\n",
    "print('Performing the subnibble operations:-')\n",
    "state = sub4NibList(sBox, state)\n",
    "print(str(get_bin(state[0]).zfill(4)) + \" \" + str(get_bin(state[2]).zfill(4)) +\" \"+ str(get_bin(state[1]).zfill(4)) +\" \"+ str(get_bin(state[3]).zfill(4)))\n",
    "#Shift Row operation\n",
    "print('Perfroming the state Row shift operations:-')\n",
    "state = shiftRow(state)\n",
    "print(str(get_bin(state[0]).zfill(4)) + \" \" + str(get_bin(state[2]).zfill(4)) +\" \"+ str(get_bin(state[1]).zfill(4)) +\" \"+ str(get_bin(state[3]).zfill(4)))\n",
    "print('After round key 2 xor')    \n",
    "state = addKey(intToVec((w[4] << 8) + w[5]), state)\n",
    "print('Cipher Text is:-')\n",
    "print(str(get_bin(state[0]).zfill(4)) + \" \" + str(get_bin(state[2]).zfill(4)) +\" \"+ str(get_bin(state[1]).zfill(4)) +\" \"+ str(get_bin(state[3]).zfill(4)))    "
   ]
  },
  {
   "cell_type": "code",
   "execution_count": 13,
   "metadata": {
    "colab": {},
    "colab_type": "code",
    "id": "WSbkOHC3Z1ra"
   },
   "outputs": [],
   "source": [
    "def decrypt_MixCol(s):\n",
    "        return [mult(9, s[0]) ^ mult(2, s[2]), mult(9, s[1]) ^ mult(2, s[3]),\n",
    "                mult(9, s[2]) ^ mult(2, s[0]), mult(9, s[3]) ^ mult(2, s[1])]"
   ]
  },
  {
   "cell_type": "code",
   "execution_count": 14,
   "metadata": {
    "colab": {
     "base_uri": "https://localhost:8080/",
     "height": 208
    },
    "colab_type": "code",
    "id": "b2KrTuxdZ1re",
    "outputId": "3f1e9aa7-0239-4456-9b9f-f545cced40fb"
   },
   "outputs": [
    {
     "name": "stdout",
     "output_type": "stream",
     "text": [
      "After round key 2\n",
      "1010 0011 0100 0011\n",
      "After shift row operation:-\n",
      "1010 0011 0100 0011\n",
      "After Using inverse sbox:-\n",
      "0010 1011 0001 1011\n",
      "After XOR with Round 1 key and mixing operation\n",
      "0010 1110 1110 1110\n",
      "After shift row and using inverse sbox \n",
      "1001 1101 1101 1101\n",
      "Decrypted plain text is:-55080\n"
     ]
    }
   ],
   "source": [
    "#Decryption starts \n",
    "ctext = vecToInt(state)\n",
    "state = intToVec(((w[4] << 8) + w[5]) ^ ctext)\n",
    "# XOR with Round 2 key\n",
    "print('After round key 2')\n",
    "print(str(get_bin(state[0]).zfill(4)) + \" \" + str(get_bin(state[2]).zfill(4)) +\" \"+ str(get_bin(state[1]).zfill(4)) +\" \"+ str(get_bin(state[3]).zfill(4)))\n",
    "# Shift Rows\n",
    "state = shiftRow(state)\n",
    "print('After shift row operation:-')\n",
    "print(str(get_bin(state[0]).zfill(4)) + \" \" + str(get_bin(state[2]).zfill(4)) +\" \"+ str(get_bin(state[1]).zfill(4)) +\" \"+ str(get_bin(state[3]).zfill(4)))\n",
    "state = sub4NibList(sBoxI, state)\n",
    "print('After Using inverse sbox:-')\n",
    "print(str(get_bin(state[0]).zfill(4)) + \" \" + str(get_bin(state[2]).zfill(4)) +\" \"+ str(get_bin(state[1]).zfill(4)) +\" \"+ str(get_bin(state[3]).zfill(4)))\n",
    "state = decrypt_MixCol(addKey(intToVec((w[2] << 8) + w[3]), state))\n",
    "print('After XOR with Round 1 key and mixing operation')\n",
    "print(str(get_bin(state[0]).zfill(4)) + \" \" + str(get_bin(state[2]).zfill(4)) +\" \"+ str(get_bin(state[1]).zfill(4)) +\" \"+ str(get_bin(state[3]).zfill(4)))\n",
    "state = shiftRow(state)\n",
    "state = sub4NibList(sBoxI,state)\n",
    "print('After shift row and using inverse sbox ')\n",
    "print(str(get_bin(state[0]).zfill(4)) + \" \" + str(get_bin(state[2]).zfill(4)) +\" \"+ str(get_bin(state[1]).zfill(4)) +\" \"+ str(get_bin(state[3]).zfill(4)))\n",
    "decrypt_text = vecToInt(addKey(intToVec((w[0] << 8) + w[1]), state))\n",
    "print('Decrypted plain text is:-'+str(decrypt_text))\n"
   ]
  },
  {
   "cell_type": "code",
   "execution_count": 15,
   "metadata": {
    "colab": {},
    "colab_type": "code",
    "id": "kONSnWW5Z1rh"
   },
   "outputs": [],
   "source": [
    "def encryptAES(plaintext):\n",
    "    print('Encryption starts:-\\n')\n",
    "    #After Round 0\n",
    "    state = intToVec(((w[0] << 8) + w[1]) ^ plain_text)\n",
    "    print('After Round 0:-')\n",
    "    print(str(get_bin(state[0]).zfill(4)) + \" \" + str(get_bin(state[2]).zfill(4)) +\" \"+ str(get_bin(state[1]).zfill(4)) +\" \"+ str(get_bin(state[3]).zfill(4)))\n",
    "    #Round 1\n",
    "    #SubNibble operation\n",
    "    print('Performing the subnibble operations:-')\n",
    "    state = sub4NibList(sBox, state)\n",
    "    print(str(get_bin(state[0]).zfill(4)) + \" \" + str(get_bin(state[2]).zfill(4)) +\" \"+ str(get_bin(state[1]).zfill(4)) +\" \"+ str(get_bin(state[3]).zfill(4)))\n",
    "    #Shift Row operation\n",
    "    print('Perfroming the state Row shift operations:-')\n",
    "    state = shiftRow(state)\n",
    "    print(str(get_bin(state[0]).zfill(4)) + \" \" + str(get_bin(state[2]).zfill(4)) +\" \"+ str(get_bin(state[1]).zfill(4)) +\" \"+ str(get_bin(state[3]).zfill(4)))\n",
    "    #Mix column operation\n",
    "    print('Result afte mix row operation:-')\n",
    "    state = mixCol(state)\n",
    "    print(str(get_bin(state[0]).zfill(4)) + \" \" + str(get_bin(state[2]).zfill(4)) +\" \"+ str(get_bin(state[1]).zfill(4)) +\" \"+ str(get_bin(state[3]).zfill(4)))\n",
    "    # XOR with Round 1 key\n",
    "    print('After round key 1 xor')    \n",
    "    state = addKey(intToVec((w[2] << 8) + w[3]), state)\n",
    "    print(str(get_bin(state[0]).zfill(4)) + \" \" + str(get_bin(state[2]).zfill(4)) +\" \"+ str(get_bin(state[1]).zfill(4)) +\" \"+ str(get_bin(state[3]).zfill(4)))\n",
    "    #Round 2\n",
    "    #SubNibble operation\n",
    "    print('Performing the subnibble operations:-')\n",
    "    state = sub4NibList(sBox, state)\n",
    "    print(str(get_bin(state[0]).zfill(4)) + \" \" + str(get_bin(state[2]).zfill(4)) +\" \"+ str(get_bin(state[1]).zfill(4)) +\" \"+ str(get_bin(state[3]).zfill(4)))\n",
    "    #Shift Row operation\n",
    "    print('Perfroming the state Row shift operations:-')\n",
    "    state = shiftRow(state)\n",
    "    print(str(get_bin(state[0]).zfill(4)) + \" \" + str(get_bin(state[2]).zfill(4)) +\" \"+ str(get_bin(state[1]).zfill(4)) +\" \"+ str(get_bin(state[3]).zfill(4)))\n",
    "    print('After round key 2 xor')    \n",
    "    state = addKey(intToVec((w[4] << 8) + w[5]), state)\n",
    "    print('Cipher Text is:-')\n",
    "    print(str(get_bin(state[0]).zfill(4)) + \" \" + str(get_bin(state[2]).zfill(4)) +\" \"+ str(get_bin(state[1]).zfill(4)) +\" \"+ str(get_bin(state[3]).zfill(4)))\n",
    "    ctext = vecToInt(state)\n",
    "    print('\\n')\n",
    "    return ctext"
   ]
  },
  {
   "cell_type": "code",
   "execution_count": 16,
   "metadata": {
    "colab": {},
    "colab_type": "code",
    "id": "FIIi6b4pZ1rl"
   },
   "outputs": [],
   "source": [
    "def decryptAES(ctext):\n",
    "    #Decryption starts \n",
    "    print('Decryption starts :- \\n')\n",
    "    state = intToVec(((w[4] << 8) + w[5]) ^ ctext)\n",
    "    # XOR with Round 2 key\n",
    "    print('After round key 2')\n",
    "    print(str(get_bin(state[0]).zfill(4)) + \" \" + str(get_bin(state[2]).zfill(4)) +\" \"+ str(get_bin(state[1]).zfill(4)) +\" \"+ str(get_bin(state[3]).zfill(4)))\n",
    "    # Shift Rows\n",
    "    state = shiftRow(state)\n",
    "    print('After shift row operation:-')\n",
    "    print(str(get_bin(state[0]).zfill(4)) + \" \" + str(get_bin(state[2]).zfill(4)) +\" \"+ str(get_bin(state[1]).zfill(4)) +\" \"+ str(get_bin(state[3]).zfill(4)))\n",
    "    state = sub4NibList(sBoxI, state)\n",
    "    print('After Using inverse sbox:-')\n",
    "    print(str(get_bin(state[0]).zfill(4)) + \" \" + str(get_bin(state[2]).zfill(4)) +\" \"+ str(get_bin(state[1]).zfill(4)) +\" \"+ str(get_bin(state[3]).zfill(4)))\n",
    "    state = decrypt_MixCol(addKey(intToVec((w[2] << 8) + w[3]), state))\n",
    "    print('After XOR with Round 1 key and mixing operation')\n",
    "    print(str(get_bin(state[0]).zfill(4)) + \" \" + str(get_bin(state[2]).zfill(4)) +\" \"+ str(get_bin(state[1]).zfill(4)) +\" \"+ str(get_bin(state[3]).zfill(4)))\n",
    "    state = shiftRow(state)\n",
    "    state = sub4NibList(sBoxI,state)\n",
    "    print('After shift row and using inverse sbox ')\n",
    "    print(str(get_bin(state[0]).zfill(4)) + \" \" + str(get_bin(state[2]).zfill(4)) +\" \"+ str(get_bin(state[1]).zfill(4)) +\" \"+ str(get_bin(state[3]).zfill(4)))\n",
    "    state = addKey(intToVec((w[0] << 8) + w[1]), state)\n",
    "    decrypt_text = vecToInt(state)\n",
    "    print('Binary decrypted text:-')\n",
    "    print(str(get_bin(state[0]).zfill(4)) + \" \" + str(get_bin(state[2]).zfill(4)) +\" \"+ str(get_bin(state[1]).zfill(4)) +\" \"+ str(get_bin(state[3]).zfill(4)))\n",
    "    print('Decrypted plain text is:-'+str(decrypt_text)) \n",
    "    print('\\n')\n",
    "    return decrypt_text"
   ]
  },
  {
   "cell_type": "code",
   "execution_count": 17,
   "metadata": {
    "colab": {},
    "colab_type": "code",
    "id": "d2gV90PGtYWy"
   },
   "outputs": [],
   "source": [
    "def BinaryToDecimal(binary):  \n",
    "         \n",
    "    binary1 = binary  \n",
    "    decimal, i, n = 0, 0, 0\n",
    "    while(binary != 0):  \n",
    "        dec = binary % 10\n",
    "        decimal = decimal + dec * pow(2, i)  \n",
    "        binary = binary//10\n",
    "        i += 1\n",
    "    return (decimal) "
   ]
  },
  {
   "cell_type": "code",
   "execution_count": 19,
   "metadata": {
    "colab": {
     "base_uri": "https://localhost:8080/",
     "height": 1000
    },
    "colab_type": "code",
    "id": "DQT3MROqZ1rs",
    "outputId": "67cf0e87-f787-404a-b153-ad1078132f1b"
   },
   "outputs": [
    {
     "name": "stdout",
     "output_type": "stream",
     "text": [
      "plain text 23\n",
      "23\n",
      "plaintext as blocks ['00110010', '00110011']\n",
      "0011001000110011\n",
      "plain_text is:-\n",
      "12851\n",
      "Encryption starts:-\n",
      "\n",
      "After Round 0:-\n",
      "0111 1000 1100 0110\n",
      "Performing the subnibble operations:-\n",
      "0101 0110 1100 1000\n",
      "Perfroming the state Row shift operations:-\n",
      "0101 1000 1100 0110\n",
      "Result afte mix row operation:-\n",
      "0011 1111 0111 0011\n",
      "After round key 1 xor\n",
      "1110 0010 0101 1011\n",
      "Performing the subnibble operations:-\n",
      "1111 1010 0001 0011\n",
      "Perfroming the state Row shift operations:-\n",
      "1111 0011 0001 1010\n",
      "After round key 2 xor\n",
      "Cipher Text is:-\n",
      "0111 0100 1011 0101\n",
      "\n",
      "\n",
      "Decryption starts :- \n",
      "\n",
      "After round key 2\n",
      "1111 0011 0001 1010\n",
      "After shift row operation:-\n",
      "1111 1010 0001 0011\n",
      "After Using inverse sbox:-\n",
      "1110 0010 0101 1011\n",
      "After XOR with Round 1 key and mixing operation\n",
      "0101 1000 1100 0110\n",
      "After shift row and using inverse sbox \n",
      "0111 1000 1100 0110\n",
      "Binary decrypted text:-\n",
      "0011 0010 0011 0011\n",
      "Decrypted plain text is:-12851\n",
      "\n",
      "\n",
      "23\n"
     ]
    }
   ],
   "source": [
    "key = 0b0100101011110101\n",
    "keyExp(key)\n",
    "input_text = input('plain text ')\n",
    "print(input_text)\n",
    "blocks = []\n",
    "str_data = \"\"\n",
    "for char in input_text:\n",
    "    char = bin(ord(char))[2:].zfill(8)\n",
    "    blocks.append(char)\n",
    "print(\"plaintext as blocks\", blocks) \n",
    "\n",
    "for i in range(0,len(blocks),2):\n",
    "  res = str(blocks[i] + blocks[i+1])\n",
    "  print(res)                                                                                                                                          \n",
    "  plain_text = int(res,2)\n",
    "  print('plain_text is:-')\n",
    "  print(plain_text)\n",
    "  cipher_text = encryptAES(plain_text)  \n",
    "  b = decryptAES(cipher_text)\n",
    "  b=get_bin(b).zfill(16)\n",
    "  b = str(b)\n",
    "  for i in range(0, len(b), 8): \n",
    "    temp_data = int(b[i:i + 8]) \n",
    "    decimal_data = BinaryToDecimal(temp_data) \n",
    "    str_data = str_data + chr(decimal_data)\n",
    "\n",
    "\n",
    "print(str_data)    \n"
   ]
  },
  {
   "cell_type": "code",
   "execution_count": 0,
   "metadata": {
    "colab": {},
    "colab_type": "code",
    "id": "e8Gmell4Z1ry"
   },
   "outputs": [],
   "source": [
    "\n"
   ]
  },
  {
   "cell_type": "code",
   "execution_count": 0,
   "metadata": {
    "colab": {},
    "colab_type": "code",
    "id": "WYo73YQ5Z1r8"
   },
   "outputs": [],
   "source": [
    "\n",
    "  "
   ]
  },
  {
   "cell_type": "code",
   "execution_count": 0,
   "metadata": {
    "colab": {},
    "colab_type": "code",
    "id": "OcoUVa0LZ1r_"
   },
   "outputs": [],
   "source": []
  },
  {
   "cell_type": "code",
   "execution_count": 0,
   "metadata": {
    "colab": {},
    "colab_type": "code",
    "id": "gccqvUtXn0wD"
   },
   "outputs": [],
   "source": [
    "  "
   ]
  },
  {
   "cell_type": "code",
   "execution_count": null,
   "metadata": {
    "colab": {},
    "colab_type": "code",
    "id": "ibe3uTNFZ1sO"
   },
   "outputs": [],
   "source": [
    "\n"
   ]
  },
  {
   "cell_type": "code",
   "execution_count": null,
   "metadata": {},
   "outputs": [],
   "source": []
  }
 ],
 "metadata": {
  "colab": {
   "name": "AES.ipynb",
   "provenance": []
  },
  "kernelspec": {
   "display_name": "Python 3",
   "language": "python",
   "name": "python3"
  },
  "language_info": {
   "codemirror_mode": {
    "name": "ipython",
    "version": 3
   },
   "file_extension": ".py",
   "mimetype": "text/x-python",
   "name": "python",
   "nbconvert_exporter": "python",
   "pygments_lexer": "ipython3",
   "version": "3.6.5"
  }
 },
 "nbformat": 4,
 "nbformat_minor": 1
}
