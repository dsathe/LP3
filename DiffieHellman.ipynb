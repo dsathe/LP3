{
 "cells": [
  {
   "cell_type": "code",
   "execution_count": 42,
   "metadata": {},
   "outputs": [],
   "source": [
    "def is_prime(num):\n",
    "    if num > 1:\n",
    "        for i in range(2,int(num//2)):\n",
    "            if (num % i) == 0:\n",
    "                return 0\n",
    "                break\n",
    "        return 1"
   ]
  },
  {
   "cell_type": "code",
   "execution_count": 11,
   "metadata": {},
   "outputs": [],
   "source": [
    "def gcd(a,b):\n",
    "    if(b==0):\n",
    "        return a\n",
    "    else:\n",
    "        return gcd(b,a%b)"
   ]
  },
  {
   "cell_type": "code",
   "execution_count": 12,
   "metadata": {},
   "outputs": [],
   "source": [
    "def is_primitive(a,b):\n",
    "    if(gcd(a,b)==1):\n",
    "        return 1\n",
    "    return 0"
   ]
  },
  {
   "cell_type": "code",
   "execution_count": 25,
   "metadata": {},
   "outputs": [
    {
     "name": "stdout",
     "output_type": "stream",
     "text": [
      "Input prime number(n)4\n",
      "Input base number(g)1\n",
      "A secret key (Xa)1\n",
      "B secret key (Xb)3\n",
      "Publicly Shared Variables:\n",
      "Publicly Shared Prime:  4\n",
      "Publicly Shared Base:   1\n",
      "\n",
      "A Sends Over Public Chanel:  1\n",
      "B Sends Over Public Chanel:  1\n",
      "\n",
      "Privately Calculated Shared Secret:\n",
      "A Shared Secret:  1\n",
      "B Shared Secret:  1\n"
     ]
    }
   ],
   "source": [
    "from __future__ import print_function\n",
    "\n",
    "n = int(input(\"Input prime number(n)\"))    # p\n",
    "g = int(input(\"Input base number(g)\"))# g\n",
    " \n",
    "Xa = int(input(\"A secret key (Xa)\"))     # a\n",
    "Xb = int(input(\"B secret key (Xb)\"))      # b \n",
    "\n",
    "if(is_prime(n)):\n",
    "    if(is_primitive(n,g)):\n",
    "        if(Xa<n and Xb<n):\n",
    "            # Begin\n",
    "            print( \"Publicly Shared Variables:\")\n",
    "            print( \"Publicly Shared Prime: \" , n )\n",
    "            print( \"Publicly Shared Base:  \" , g )\n",
    "\n",
    "            A = (g**Xa) % n\n",
    "            print( \"\\nA Sends Over Public Chanel: \" , A )\n",
    "\n",
    "            B = (g**Xb) % n\n",
    "            print(\"B Sends Over Public Chanel: \", B )\n",
    "\n",
    "            print( \"\\nPrivately Calculated Shared Secret:\" )\n",
    "\n",
    "            ASharedSecret = (B ** Xa) % n\n",
    "            print( \"A Shared Secret: \", ASharedSecret )\n",
    "            BSharedSecret = (A** Xb) % n\n",
    "            print( \"B Shared Secret: \", BSharedSecret )\n",
    "        else :\n",
    "            print(\"A or B  secret key > n \")\n",
    "    else:\n",
    "        print(\"g is not primitive of n\")\n",
    "else :\n",
    "    print(\"n is not prime\")"
   ]
  },
  {
   "cell_type": "code",
   "execution_count": 43,
   "metadata": {},
   "outputs": [
    {
     "data": {
      "text/plain": [
       "1"
      ]
     },
     "execution_count": 43,
     "metadata": {},
     "output_type": "execute_result"
    }
   ],
   "source": [
    "is_prime(4)"
   ]
  },
  {
   "cell_type": "code",
   "execution_count": null,
   "metadata": {},
   "outputs": [],
   "source": []
  }
 ],
 "metadata": {
  "kernelspec": {
   "display_name": "Python 3",
   "language": "python",
   "name": "python3"
  },
  "language_info": {
   "codemirror_mode": {
    "name": "ipython",
    "version": 3
   },
   "file_extension": ".py",
   "mimetype": "text/x-python",
   "name": "python",
   "nbconvert_exporter": "python",
   "pygments_lexer": "ipython3",
   "version": "3.6.5"
  }
 },
 "nbformat": 4,
 "nbformat_minor": 2
}
