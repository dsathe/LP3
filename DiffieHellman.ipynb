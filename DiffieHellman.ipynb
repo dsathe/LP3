{
 "cells": [
  {
   "cell_type": "code",
   "execution_count": 17,
   "metadata": {},
   "outputs": [],
   "source": [
    "def is_prime(num):\n",
    "    if num > 1:\n",
    "        for i in range(2,int(num)):\n",
    "            if (num % i) == 0:\n",
    "                return 0\n",
    "                break\n",
    "        return 1"
   ]
  },
  {
   "cell_type": "code",
   "execution_count": 18,
   "metadata": {},
   "outputs": [],
   "source": [
    "def gcd(a,b):\n",
    "    if(b==0):\n",
    "        return a\n",
    "    else:\n",
    "        return gcd(b,a%b)"
   ]
  },
  {
   "cell_type": "code",
   "execution_count": 19,
   "metadata": {},
   "outputs": [],
   "source": [
    "from math import sqrt \n",
    "def findPrimefactors(s, n) : \n",
    "    while (n % 2 == 0) : \n",
    "        s.add(2)  \n",
    "        n = n // 2\n",
    "        \n",
    "    for i in range(3, int(sqrt(n)), 2): \n",
    "        while (n % i == 0) :   \n",
    "            s.add(i)  \n",
    "            n = n // i  \n",
    "            \n",
    "    if (n > 2) : \n",
    "        s.add(n)"
   ]
  },
  {
   "cell_type": "code",
   "execution_count": 20,
   "metadata": {},
   "outputs": [],
   "source": [
    "def is_primitive(a,b):\n",
    "    s = set() \n",
    "    phi = a - 1\n",
    "    findPrimefactors(s, phi) \n",
    "    for r in range(2, phi + 1):  \n",
    "        \n",
    "        flag = False\n",
    "        for it in s:   \n",
    "            if (power(r, phi // it, n) == 1):  \n",
    "  \n",
    "                flag = True\n",
    "                break\n",
    "               \n",
    "        return flag"
   ]
  },
  {
   "cell_type": "code",
   "execution_count": 21,
   "metadata": {},
   "outputs": [],
   "source": [
    "def power( x, y, p):  \n",
    "  \n",
    "    res = 1 # Initialize result  \n",
    "  \n",
    "    x = x % p # Update x if it is more  \n",
    "              # than or equal to p  \n",
    "  \n",
    "    while (y > 0):  \n",
    "  \n",
    "        # If y is odd, multiply x with result  \n",
    "        if (y & 1): \n",
    "            res = (res * x) % p  \n",
    "  \n",
    "        # y must be even now  \n",
    "        y = y >> 1 # y = y/2  \n",
    "        x = (x * x) % p  \n",
    "  \n",
    "    return res  "
   ]
  },
  {
   "cell_type": "code",
   "execution_count": 22,
   "metadata": {},
   "outputs": [
    {
     "name": "stdout",
     "output_type": "stream",
     "text": [
      "Input prime number(n)41\n",
      "Input base number(g)13\n",
      "A secret key (Xa)27\n",
      "B secret key (Xb)18\n",
      "Publicly Shared Variables:\n",
      "Publicly Shared Prime:  41\n",
      "Publicly Shared Base:   13\n",
      "\n",
      "A Sends Over Public Chanel:  15\n",
      "B Sends Over Public Chanel:  8\n",
      "\n",
      "Privately Calculated Shared Secret:\n",
      "A Shared Secret:  2\n",
      "B Shared Secret:  2\n"
     ]
    }
   ],
   "source": [
    "from __future__ import print_function\n",
    "\n",
    "n = int(input(\"Input prime number(n)\"))    # p\n",
    "g = int(input(\"Input base number(g)\"))# g\n",
    " \n",
    "Xa = int(input(\"A secret key (Xa)\"))     # a\n",
    "Xb = int(input(\"B secret key (Xb)\"))      # b \n",
    "\n",
    "if(is_prime(n)):\n",
    "    if(is_primitive(n,g)):\n",
    "        if(Xa<n and Xb<n):\n",
    "            # Begin\n",
    "            print( \"Publicly Shared Variables:\")\n",
    "            print( \"Publicly Shared Prime: \" , n )\n",
    "            print( \"Publicly Shared Base:  \" , g )\n",
    "\n",
    "            A = (g**Xa) % n\n",
    "            print( \"\\nA Sends Over Public Chanel: \" , A )\n",
    "\n",
    "            B = (g**Xb) % n\n",
    "            print(\"B Sends Over Public Chanel: \", B )\n",
    "\n",
    "            print( \"\\nPrivately Calculated Shared Secret:\" )\n",
    "\n",
    "            ASharedSecret = (B ** Xa) % n\n",
    "            print( \"A Shared Secret: \", ASharedSecret )\n",
    "            BSharedSecret = (A** Xb) % n\n",
    "            print( \"B Shared Secret: \", BSharedSecret )\n",
    "        else :\n",
    "            print(\"A or B  secret key > n \")\n",
    "    else:\n",
    "        print(\"g is not primitive of n\")\n",
    "else :\n",
    "    print(\"n is not prime\")"
   ]
  },
  {
   "cell_type": "code",
   "execution_count": null,
   "metadata": {},
   "outputs": [],
   "source": []
  }
 ],
 "metadata": {
  "kernelspec": {
   "display_name": "Python 3",
   "language": "python",
   "name": "python3"
  },
  "language_info": {
   "codemirror_mode": {
    "name": "ipython",
    "version": 3
   },
   "file_extension": ".py",
   "mimetype": "text/x-python",
   "name": "python",
   "nbconvert_exporter": "python",
   "pygments_lexer": "ipython3",
   "version": "3.7.3"
  }
 },
 "nbformat": 4,
 "nbformat_minor": 2
}
